{
 "cells": [
  {
   "cell_type": "code",
   "execution_count": 10,
   "metadata": {},
   "outputs": [],
   "source": [
    "from sklearn.datasets import load_iris\n",
    "import pandas as pd\n",
    "import numpy as np\n",
    "\n",
    "#데이터셋 로드\n",
    "iris = load_iris()\n",
    "df = pd.DataFrame(data= np.c_[iris.data, iris.target] , \n",
    "                  columns= ['sepal length', 'sepal width', 'petal length', 'petal width', 'target'])"
   ]
  },
  {
   "cell_type": "code",
   "execution_count": 11,
   "metadata": {},
   "outputs": [
    {
     "data": {
      "text/html": [
       "<div>\n",
       "<style scoped>\n",
       "    .dataframe tbody tr th:only-of-type {\n",
       "        vertical-align: middle;\n",
       "    }\n",
       "\n",
       "    .dataframe tbody tr th {\n",
       "        vertical-align: top;\n",
       "    }\n",
       "\n",
       "    .dataframe thead th {\n",
       "        text-align: right;\n",
       "    }\n",
       "</style>\n",
       "<table border=\"1\" class=\"dataframe\">\n",
       "  <thead>\n",
       "    <tr style=\"text-align: right;\">\n",
       "      <th></th>\n",
       "      <th>sepal length</th>\n",
       "      <th>sepal width</th>\n",
       "      <th>petal length</th>\n",
       "      <th>petal width</th>\n",
       "      <th>target</th>\n",
       "    </tr>\n",
       "  </thead>\n",
       "  <tbody>\n",
       "    <tr>\n",
       "      <th>0</th>\n",
       "      <td>5.1</td>\n",
       "      <td>3.5</td>\n",
       "      <td>1.4</td>\n",
       "      <td>0.2</td>\n",
       "      <td>0.0</td>\n",
       "    </tr>\n",
       "    <tr>\n",
       "      <th>1</th>\n",
       "      <td>4.9</td>\n",
       "      <td>3.0</td>\n",
       "      <td>1.4</td>\n",
       "      <td>0.2</td>\n",
       "      <td>0.0</td>\n",
       "    </tr>\n",
       "    <tr>\n",
       "      <th>2</th>\n",
       "      <td>4.7</td>\n",
       "      <td>3.2</td>\n",
       "      <td>1.3</td>\n",
       "      <td>0.2</td>\n",
       "      <td>0.0</td>\n",
       "    </tr>\n",
       "    <tr>\n",
       "      <th>3</th>\n",
       "      <td>4.6</td>\n",
       "      <td>3.1</td>\n",
       "      <td>1.5</td>\n",
       "      <td>0.2</td>\n",
       "      <td>0.0</td>\n",
       "    </tr>\n",
       "    <tr>\n",
       "      <th>4</th>\n",
       "      <td>5.0</td>\n",
       "      <td>3.6</td>\n",
       "      <td>1.4</td>\n",
       "      <td>0.2</td>\n",
       "      <td>0.0</td>\n",
       "    </tr>\n",
       "  </tbody>\n",
       "</table>\n",
       "</div>"
      ],
      "text/plain": [
       "   sepal length  sepal width  petal length  petal width  target\n",
       "0           5.1          3.5           1.4          0.2     0.0\n",
       "1           4.9          3.0           1.4          0.2     0.0\n",
       "2           4.7          3.2           1.3          0.2     0.0\n",
       "3           4.6          3.1           1.5          0.2     0.0\n",
       "4           5.0          3.6           1.4          0.2     0.0"
      ]
     },
     "execution_count": 11,
     "metadata": {},
     "output_type": "execute_result"
    }
   ],
   "source": [
    "df.head()"
   ]
  },
  {
   "cell_type": "markdown",
   "metadata": {},
   "source": [
    "### 2차원 t-SNE 시각화 파이썬 코드"
   ]
  },
  {
   "cell_type": "code",
   "execution_count": 12,
   "metadata": {},
   "outputs": [
    {
     "name": "stderr",
     "output_type": "stream",
     "text": [
      "d:\\Users\\peunj\\anaconda3\\envs\\graph2edits\\lib\\site-packages\\sklearn\\manifold\\_t_sne.py:783: FutureWarning:\n",
      "\n",
      "The default initialization in TSNE will change from 'random' to 'pca' in 1.2.\n",
      "\n",
      "d:\\Users\\peunj\\anaconda3\\envs\\graph2edits\\lib\\site-packages\\sklearn\\manifold\\_t_sne.py:793: FutureWarning:\n",
      "\n",
      "The default learning rate in TSNE will change from 200.0 to 'auto' in 1.2.\n",
      "\n"
     ]
    }
   ],
   "source": [
    "from sklearn.manifold import TSNE\n",
    "\n",
    "# class target 정보 제외\n",
    "train_df = df[['sepal length', 'sepal width', 'petal length', 'petal width']]\n",
    "\n",
    "# 2차원 t-SNE 임베딩\n",
    "tsne_np = TSNE(n_components = 2).fit_transform(train_df)\n",
    "\n",
    "# numpy array -> DataFrame 변환\n",
    "tsne_df = pd.DataFrame(tsne_np, columns = ['component 0', 'component 1'])"
   ]
  },
  {
   "cell_type": "code",
   "execution_count": 13,
   "metadata": {},
   "outputs": [
    {
     "data": {
      "text/html": [
       "<div>\n",
       "<style scoped>\n",
       "    .dataframe tbody tr th:only-of-type {\n",
       "        vertical-align: middle;\n",
       "    }\n",
       "\n",
       "    .dataframe tbody tr th {\n",
       "        vertical-align: top;\n",
       "    }\n",
       "\n",
       "    .dataframe thead th {\n",
       "        text-align: right;\n",
       "    }\n",
       "</style>\n",
       "<table border=\"1\" class=\"dataframe\">\n",
       "  <thead>\n",
       "    <tr style=\"text-align: right;\">\n",
       "      <th></th>\n",
       "      <th>component 0</th>\n",
       "      <th>component 1</th>\n",
       "    </tr>\n",
       "  </thead>\n",
       "  <tbody>\n",
       "    <tr>\n",
       "      <th>0</th>\n",
       "      <td>-11.621593</td>\n",
       "      <td>-19.900398</td>\n",
       "    </tr>\n",
       "    <tr>\n",
       "      <th>1</th>\n",
       "      <td>-11.118473</td>\n",
       "      <td>-22.631676</td>\n",
       "    </tr>\n",
       "    <tr>\n",
       "      <th>2</th>\n",
       "      <td>-12.285942</td>\n",
       "      <td>-22.310240</td>\n",
       "    </tr>\n",
       "    <tr>\n",
       "      <th>3</th>\n",
       "      <td>-11.970762</td>\n",
       "      <td>-22.813902</td>\n",
       "    </tr>\n",
       "    <tr>\n",
       "      <th>4</th>\n",
       "      <td>-12.051280</td>\n",
       "      <td>-19.874796</td>\n",
       "    </tr>\n",
       "    <tr>\n",
       "      <th>...</th>\n",
       "      <td>...</td>\n",
       "      <td>...</td>\n",
       "    </tr>\n",
       "    <tr>\n",
       "      <th>145</th>\n",
       "      <td>6.191989</td>\n",
       "      <td>16.566223</td>\n",
       "    </tr>\n",
       "    <tr>\n",
       "      <th>146</th>\n",
       "      <td>7.242778</td>\n",
       "      <td>13.476447</td>\n",
       "    </tr>\n",
       "    <tr>\n",
       "      <th>147</th>\n",
       "      <td>6.457773</td>\n",
       "      <td>15.632294</td>\n",
       "    </tr>\n",
       "    <tr>\n",
       "      <th>148</th>\n",
       "      <td>8.065139</td>\n",
       "      <td>16.985893</td>\n",
       "    </tr>\n",
       "    <tr>\n",
       "      <th>149</th>\n",
       "      <td>8.186875</td>\n",
       "      <td>12.296050</td>\n",
       "    </tr>\n",
       "  </tbody>\n",
       "</table>\n",
       "<p>150 rows × 2 columns</p>\n",
       "</div>"
      ],
      "text/plain": [
       "     component 0  component 1\n",
       "0     -11.621593   -19.900398\n",
       "1     -11.118473   -22.631676\n",
       "2     -12.285942   -22.310240\n",
       "3     -11.970762   -22.813902\n",
       "4     -12.051280   -19.874796\n",
       "..           ...          ...\n",
       "145     6.191989    16.566223\n",
       "146     7.242778    13.476447\n",
       "147     6.457773    15.632294\n",
       "148     8.065139    16.985893\n",
       "149     8.186875    12.296050\n",
       "\n",
       "[150 rows x 2 columns]"
      ]
     },
     "execution_count": 13,
     "metadata": {},
     "output_type": "execute_result"
    }
   ],
   "source": [
    "tsne_df"
   ]
  },
  {
   "cell_type": "code",
   "execution_count": 14,
   "metadata": {},
   "outputs": [
    {
     "data": {
      "image/png": "[encoded data removed]",
      "text/plain": [
       "<Figure size 640x480 with 1 Axes>"
      ]
     },
     "metadata": {},
     "output_type": "display_data"
    }
   ],
   "source": [
    "import matplotlib.pyplot as plt\n",
    "\n",
    "# class target 정보 불러오기 \n",
    "tsne_df['target'] = df['target']\n",
    "\n",
    "# target 별 분리\n",
    "tsne_df_0 = tsne_df[tsne_df['target'] == 0]\n",
    "tsne_df_1 = tsne_df[tsne_df['target'] == 1]\n",
    "tsne_df_2 = tsne_df[tsne_df['target'] == 2]\n",
    "\n",
    "# target 별 시각화\n",
    "plt.scatter(tsne_df_0['component 0'], tsne_df_0['component 1'], color = 'pink', label = 'setosa')\n",
    "plt.scatter(tsne_df_1['component 0'], tsne_df_1['component 1'], color = 'purple', label = 'versicolor')\n",
    "plt.scatter(tsne_df_2['component 0'], tsne_df_2['component 1'], color = 'yellow', label = 'virginica')\n",
    "\n",
    "plt.xlabel('component 0')\n",
    "plt.ylabel('component 1')\n",
    "plt.legend()\n",
    "plt.show()"
   ]
  },
  {
   "cell_type": "markdown",
   "metadata": {},
   "source": [
    "### 3차원 t-SNE 시각화 파이썬 코드"
   ]
  },
  {
   "cell_type": "code",
   "execution_count": 15,
   "metadata": {},
   "outputs": [
    {
     "name": "stderr",
     "output_type": "stream",
     "text": [
      "d:\\Users\\peunj\\anaconda3\\envs\\graph2edits\\lib\\site-packages\\sklearn\\manifold\\_t_sne.py:783: FutureWarning:\n",
      "\n",
      "The default initialization in TSNE will change from 'random' to 'pca' in 1.2.\n",
      "\n",
      "d:\\Users\\peunj\\anaconda3\\envs\\graph2edits\\lib\\site-packages\\sklearn\\manifold\\_t_sne.py:793: FutureWarning:\n",
      "\n",
      "The default learning rate in TSNE will change from 200.0 to 'auto' in 1.2.\n",
      "\n"
     ]
    }
   ],
   "source": [
    "# 3차원 t-SNE 임베딩\n",
    "tsne_np = TSNE(n_components = 3).fit_transform(train_df)\n",
    "\n",
    "# numpy array -> DataFrame 변환\n",
    "tsne_df = pd.DataFrame(tsne_np, columns = ['component 0', 'component 1', 'component 2'])"
   ]
  },
  {
   "cell_type": "code",
   "execution_count": 16,
   "metadata": {},
   "outputs": [
    {
     "data": {
      "text/html": [
       "<div>\n",
       "<style scoped>\n",
       "    .dataframe tbody tr th:only-of-type {\n",
       "        vertical-align: middle;\n",
       "    }\n",
       "\n",
       "    .dataframe tbody tr th {\n",
       "        vertical-align: top;\n",
       "    }\n",
       "\n",
       "    .dataframe thead th {\n",
       "        text-align: right;\n",
       "    }\n",
       "</style>\n",
       "<table border=\"1\" class=\"dataframe\">\n",
       "  <thead>\n",
       "    <tr style=\"text-align: right;\">\n",
       "      <th></th>\n",
       "      <th>component 0</th>\n",
       "      <th>component 1</th>\n",
       "      <th>component 2</th>\n",
       "    </tr>\n",
       "  </thead>\n",
       "  <tbody>\n",
       "    <tr>\n",
       "      <th>0</th>\n",
       "      <td>-32.822498</td>\n",
       "      <td>61.871136</td>\n",
       "      <td>77.558624</td>\n",
       "    </tr>\n",
       "    <tr>\n",
       "      <th>1</th>\n",
       "      <td>-75.832405</td>\n",
       "      <td>-48.055454</td>\n",
       "      <td>163.330795</td>\n",
       "    </tr>\n",
       "    <tr>\n",
       "      <th>2</th>\n",
       "      <td>54.749298</td>\n",
       "      <td>0.637285</td>\n",
       "      <td>136.048782</td>\n",
       "    </tr>\n",
       "    <tr>\n",
       "      <th>3</th>\n",
       "      <td>87.384819</td>\n",
       "      <td>-26.375019</td>\n",
       "      <td>151.573059</td>\n",
       "    </tr>\n",
       "    <tr>\n",
       "      <th>4</th>\n",
       "      <td>45.884819</td>\n",
       "      <td>-51.355389</td>\n",
       "      <td>73.916183</td>\n",
       "    </tr>\n",
       "    <tr>\n",
       "      <th>...</th>\n",
       "      <td>...</td>\n",
       "      <td>...</td>\n",
       "      <td>...</td>\n",
       "    </tr>\n",
       "    <tr>\n",
       "      <th>145</th>\n",
       "      <td>-62.836048</td>\n",
       "      <td>97.611366</td>\n",
       "      <td>-23.091763</td>\n",
       "    </tr>\n",
       "    <tr>\n",
       "      <th>146</th>\n",
       "      <td>1.758870</td>\n",
       "      <td>6.471855</td>\n",
       "      <td>-87.995972</td>\n",
       "    </tr>\n",
       "    <tr>\n",
       "      <th>147</th>\n",
       "      <td>-30.940542</td>\n",
       "      <td>44.727406</td>\n",
       "      <td>-71.497597</td>\n",
       "    </tr>\n",
       "    <tr>\n",
       "      <th>148</th>\n",
       "      <td>-59.075714</td>\n",
       "      <td>134.723373</td>\n",
       "      <td>-53.873165</td>\n",
       "    </tr>\n",
       "    <tr>\n",
       "      <th>149</th>\n",
       "      <td>11.938735</td>\n",
       "      <td>34.532097</td>\n",
       "      <td>-40.782887</td>\n",
       "    </tr>\n",
       "  </tbody>\n",
       "</table>\n",
       "<p>150 rows × 3 columns</p>\n",
       "</div>"
      ],
      "text/plain": [
       "     component 0  component 1  component 2\n",
       "0     -32.822498    61.871136    77.558624\n",
       "1     -75.832405   -48.055454   163.330795\n",
       "2      54.749298     0.637285   136.048782\n",
       "3      87.384819   -26.375019   151.573059\n",
       "4      45.884819   -51.355389    73.916183\n",
       "..           ...          ...          ...\n",
       "145   -62.836048    97.611366   -23.091763\n",
       "146     1.758870     6.471855   -87.995972\n",
       "147   -30.940542    44.727406   -71.497597\n",
       "148   -59.075714   134.723373   -53.873165\n",
       "149    11.938735    34.532097   -40.782887\n",
       "\n",
       "[150 rows x 3 columns]"
      ]
     },
     "execution_count": 16,
     "metadata": {},
     "output_type": "execute_result"
    }
   ],
   "source": [
    "tsne_df"
   ]
  },
  {
   "cell_type": "code",
   "execution_count": 17,
   "metadata": {},
   "outputs": [
    {
     "data": {
      "image/png": "[encoded data removed]",
      "text/plain": [
       "<Figure size 900x600 with 1 Axes>"
      ]
     },
     "metadata": {},
     "output_type": "display_data"
    }
   ],
   "source": [
    "from mpl_toolkits.mplot3d import Axes3D\n",
    "\n",
    "# 3차원 그래프 세팅\n",
    "fig = plt.figure(figsize=(9, 6))\n",
    "ax = fig.add_subplot(111, projection='3d')\n",
    "\n",
    "# class target 정보 불러오기 \n",
    "tsne_df['target'] = df['target']\n",
    "\n",
    "# target 별 분리\n",
    "tsne_df_0 = tsne_df[tsne_df['target'] == 0]\n",
    "tsne_df_1 = tsne_df[tsne_df['target'] == 1]\n",
    "tsne_df_2 = tsne_df[tsne_df['target'] == 2]\n",
    "\n",
    "# target 별 시각화\n",
    "ax.scatter(tsne_df_0['component 0'], tsne_df_0['component 1'], tsne_df_0['component 2'], color = 'pink', label = 'setosa')\n",
    "ax.scatter(tsne_df_1['component 0'], tsne_df_1['component 1'], tsne_df_1['component 2'], color = 'purple', label = 'versicolor')\n",
    "ax.scatter(tsne_df_2['component 0'], tsne_df_2['component 1'], tsne_df_2['component 2'], color = 'yellow', label = 'virginica')\n",
    "\n",
    "ax.set_xlabel('component 0')\n",
    "ax.set_ylabel('component 1')\n",
    "ax.set_zlabel('component 2')\n",
    "ax.legend()\n",
    "plt.show()"
   ]
  },
  {
   "cell_type": "code",
   "execution_count": 18,
   "metadata": {},
   "outputs": [
    {
     "data": {
      "application/vnd.plotly.v1+json": {
       "config": {
        "plotlyServerURL": "https://plot.ly"
       },
       "data": [
        {
         "marker": {
          "color": "pink",
          "opacity": 0.8,
          "size": 4
         },
         "mode": "markers",
         "name": "setosa",
         "type": "scatter3d",
         "x": [
          -32.8224983215332,
          -75.83240509033203,
          54.749298095703125,
          87.38481903076172,
          45.88481903076172,
          -61.063411712646484,
          113.47824096679688,
          15.000534057617188,
          91.0409164428711,
          0.7090804576873779,
          -0.3916832208633423,
          65.61699676513672,
          185.06907653808594,
          12.373405456542969,
          -22.129709243774414,
          66.04070281982422,
          14.156224250793457,
          -2.657038450241089,
          4.716461181640625,
          28.202022552490234,
          -40.325557708740234,
          -12.189970016479492,
          12.166604042053223,
          17.415117263793945,
          25.687095642089844,
          45.68645477294922,
          -151.0437774658203,
          27.314767837524414,
          -65.44514465332031,
          131.0531005859375,
          37.2028694152832,
          -36.81024169921875,
          -15.332052230834961,
          -68.0301742553711,
          -89.38658142089844,
          11.771906852722168,
          -32.65482711791992,
          2.408205986022949,
          53.681556701660156,
          -25.0599365234375,
          72.18072509765625,
          54.7203254699707,
          80.1036376953125,
          -12.261913299560547,
          -56.007240295410156,
          -57.61465835571289,
          -39.518470764160156,
          -160.96766662597656,
          195.353271484375,
          34.866634368896484
         ],
         "y": [
          61.87113571166992,
          -48.05545425415039,
          0.6372845768928528,
          -26.375019073486328,
          -51.35538864135742,
          60.34964370727539,
          -3.8117685317993164,
          -138.60414123535156,
          30.99011993408203,
          1.2179653644561768,
          -87.57939147949219,
          48.481201171875,
          -22.70677947998047,
          -59.11915588378906,
          114.18329620361328,
          -130.7823486328125,
          -134.51393127441406,
          -54.042232513427734,
          116.43865203857422,
          -91.16600799560547,
          -116.65159606933594,
          -100.12125396728516,
          -15.196821212768555,
          48.35588836669922,
          71.21598052978516,
          20.6861572265625,
          84.34231567382812,
          -19.51201057434082,
          0.797641396522522,
          -25.235759735107422,
          14.237510681152344,
          -29.47869873046875,
          -6.926651477813721,
          107.3107681274414,
          -52.281455993652344,
          36.614376068115234,
          -73.18942260742188,
          -23.8031005859375,
          -38.26375198364258,
          17.858238220214844,
          -70.97544860839844,
          -91.38706970214844,
          -9.686470985412598,
          22.62272071838379,
          -124.67356872558594,
          111.31291198730469,
          -21.50664520263672,
          22.06175994873047,
          27.214405059814453,
          -46.73736572265625
         ],
         "z": [
          77.55862426757812,
          163.33079528808594,
          136.0487823486328,
          151.57305908203125,
          73.91618347167969,
          122.23898315429688,
          125.19336700439453,
          -67.43294525146484,
          151.3590087890625,
          183.2876739501953,
          102.90753173828125,
          104.85442352294922,
          -14.966460227966309,
          172.46771240234375,
          115.92082214355469,
          66.44601440429688,
          85.65792083740234,
          65.24327087402344,
          70.35726928710938,
          63.707115173339844,
          110.724365234375,
          51.873138427734375,
          140.40003967285156,
          61.46520233154297,
          108.06924438476562,
          182.6849822998047,
          -0.04063565284013748,
          53.51533889770508,
          112.54686737060547,
          91.33373260498047,
          96.18522644042969,
          133.3568572998047,
          39.675453186035156,
          101.2114028930664,
          113.67223358154297,
          146.32562255859375,
          130.1778564453125,
          95.90949249267578,
          179.27655029296875,
          121.21234893798828,
          103.41498565673828,
          158.2215118408203,
          96.36837768554688,
          77.7322998046875,
          58.322364807128906,
          43.13019561767578,
          76.11109924316406,
          45.821144104003906,
          -141.0599822998047,
          118.42542266845703
         ]
        },
        {
         "marker": {
          "color": "purple",
          "opacity": 0.8,
          "size": 4
         },
         "mode": "markers",
         "name": "versicolor",
         "type": "scatter3d",
         "x": [
          -112.95243835449219,
          -57.520355224609375,
          -106.26346588134766,
          84.81832122802734,
          -33.59830093383789,
          82.7915267944336,
          50.98501205444336,
          160.28013610839844,
          31.843984603881836,
          102.49198150634766,
          142.9167938232422,
          96.35325622558594,
          98.46248626708984,
          -55.12007141113281,
          113.01750946044922,
          -108.08229064941406,
          56.20755386352539,
          119.59391021728516,
          88.9317398071289,
          67.7417221069336,
          23.99451446533203,
          115.77677154541016,
          52.12543487548828,
          54.88490295410156,
          24.374338150024414,
          -75.833251953125,
          -68.79595947265625,
          -74.29044342041016,
          68.40862274169922,
          17.650644302368164,
          143.45437622070312,
          117.122802734375,
          -8.218612670898438,
          31.767940521240234,
          -55.28721618652344,
          13.629695892333984,
          150.8394775390625,
          117.29529571533203,
          -89.01348876953125,
          92.32939147949219,
          118.18275451660156,
          14.837574005126953,
          138.1291046142578,
          131.92276000976562,
          -127.81987762451172,
          -104.0067138671875,
          59.615596771240234,
          104.50074005126953,
          166.92471313476562,
          73.71830749511719
         ],
         "y": [
          -96.42349243164062,
          -26.16321563720703,
          -54.969512939453125,
          90.48194122314453,
          -64.74679565429688,
          -40.21221923828125,
          -84.74073791503906,
          68.14383697509766,
          90.60377502441406,
          80.63074493408203,
          103.63518524169922,
          -87.47457885742188,
          25.943525314331055,
          -67.1795883178711,
          62.04229736328125,
          -91.01732635498047,
          -74.05183410644531,
          13.44416618347168,
          -18.92588233947754,
          -127.01648712158203,
          -57.0057258605957,
          -73.30699157714844,
          -3.5827674865722656,
          -15.376541137695312,
          112.64642333984375,
          -62.886470794677734,
          -94.21128845214844,
          -49.26645278930664,
          -58.26347351074219,
          -146.32618713378906,
          20.367454528808594,
          54.224491119384766,
          -106.4730453491211,
          37.53834915161133,
          31.9287166595459,
          -89.69293212890625,
          -79.52601623535156,
          -29.155134201049805,
          -4.403936386108398,
          13.109012603759766,
          -20.383636474609375,
          62.00917053222656,
          13.179021835327148,
          82.46602630615234,
          -32.23225021362305,
          11.613716125488281,
          42.906700134277344,
          -49.51889419555664,
          60.291465759277344,
          43.67583084106445
         ],
         "z": [
          -26.699037551879883,
          5.863690376281738,
          -16.909664154052734,
          17.266204833984375,
          0.5334550738334656,
          3.079545497894287,
          -79.01235961914062,
          -13.111953735351562,
          -49.009883880615234,
          -26.7591552734375,
          7.813114166259766,
          -8.514620780944824,
          -35.13850784301758,
          61.24045181274414,
          -70.2800521850586,
          22.472667694091797,
          12.859293937683105,
          44.44738006591797,
          -73.51079559326172,
          -32.84912109375,
          -28.056568145751953,
          -54.68120193481445,
          -103.77261352539062,
          -15.248393058776855,
          -4.546176910400391,
          22.17740821838379,
          -14.190841674804688,
          -44.46565246582031,
          -35.86306381225586,
          -9.427529335021973,
          0.39548343420028687,
          8.81457233428955,
          -118.15495300292969,
          -79.96732330322266,
          29.834775924682617,
          -3.285090446472168,
          -3.943904161453247,
          -93.88072204589844,
          53.07474136352539,
          10.111214637756348,
          -12.782111167907715,
          6.695070743560791,
          -49.0660285949707,
          45.406097412109375,
          50.169620513916016,
          14.021751403808594,
          -4.845283508300781,
          39.879058837890625,
          31.07756805419922,
          39.46440124511719
         ]
        },
        {
         "marker": {
          "color": "yellow",
          "opacity": 0.8,
          "size": 4
         },
         "mode": "markers",
         "name": "virginica",
         "type": "scatter3d",
         "x": [
          -148.50071716308594,
          -6.69145393371582,
          -66.02545166015625,
          -124.7113037109375,
          -97.42396545410156,
          -20.52202606201172,
          88.12738800048828,
          -47.94644546508789,
          -117.20295715332031,
          -19.182025909423828,
          -32.47941207885742,
          -44.506046295166016,
          -98.71943664550781,
          12.007872581481934,
          -30.875751495361328,
          -56.64811325073242,
          -87.55779266357422,
          11.230470657348633,
          8.253066062927246,
          57.350833892822266,
          -55.683265686035156,
          11.075459480285645,
          21.050073623657227,
          -22.26152992248535,
          -64.74189758300781,
          -63.650569915771484,
          30.16382598876953,
          6.723033905029297,
          -108.69056701660156,
          -92.41903686523438,
          -86.00253295898438,
          -20.4954891204834,
          -68.9795150756836,
          -34.850494384765625,
          -144.94432067871094,
          -42.80698013305664,
          -30.24015235900879,
          -99.0377197265625,
          -10.636058807373047,
          -99.1102066040039,
          -94.27281951904297,
          -101.0112075805664,
          -36.77166748046875,
          -96.08224487304688,
          -13.339273452758789,
          -62.8360481262207,
          1.7588696479797363,
          -30.940542221069336,
          -59.075714111328125,
          11.938735008239746
         ],
         "y": [
          63.10322952270508,
          -33.84229278564453,
          9.626785278320312,
          13.269437789916992,
          72.87625885009766,
          0.11174971610307693,
          125.29161834716797,
          -35.637882232666016,
          19.636730194091797,
          50.131526947021484,
          69.47752380371094,
          0.5957520604133606,
          79.66949462890625,
          -7.390202522277832,
          -6.307917594909668,
          88.48880004882812,
          -4.010476589202881,
          53.82197952270508,
          -23.576929092407227,
          7.069716930389404,
          86.98780822753906,
          -4.481912612915039,
          10.197549819946289,
          30.17043113708496,
          48.866722106933594,
          40.93022155761719,
          -36.6706657409668,
          -71.78556060791016,
          55.40865707397461,
          15.498420715332031,
          -20.717300415039062,
          31.060039520263672,
          34.229530334472656,
          -91.8919906616211,
          -24.125160217285156,
          -12.307123184204102,
          124.21105194091797,
          6.766933441162109,
          -45.64026641845703,
          58.48609924316406,
          65.93722534179688,
          104.63938903808594,
          -52.01950454711914,
          -41.15066146850586,
          87.21971130371094,
          97.61136627197266,
          6.471855163574219,
          44.7274055480957,
          134.72337341308594,
          34.53209686279297
         ],
         "z": [
          -60.601253509521484,
          -99.51012420654297,
          -129.32003784179688,
          -71.6623764038086,
          10.972138404846191,
          -151.10525512695312,
          -40.03564453125,
          -148.95654296875,
          -119.75659942626953,
          -137.09121704101562,
          -38.799217224121094,
          -78.03291320800781,
          -106.32453918457031,
          -47.04501724243164,
          -34.45204544067383,
          -69.24134826660156,
          -77.17803955078125,
          -173.1986846923828,
          -178.58822631835938,
          -62.355560302734375,
          -126.35841369628906,
          -5.8854289054870605,
          -154.8796844482422,
          -11.31950569152832,
          -104.2425765991211,
          -159.7879638671875,
          -74.57017517089844,
          -67.16841125488281,
          54.86583709716797,
          -175.71905517578125,
          -156.88467407226562,
          -189.42286682128906,
          -52.09658432006836,
          -50.32758331298828,
          -52.67955017089844,
          -189.01524353027344,
          -82.49601745605469,
          -38.24482727050781,
          -41.43959045410156,
          -73.55302429199219,
          -30.108383178710938,
          -61.04783248901367,
          -81.76258087158203,
          -111.38833618164062,
          -104.53962707519531,
          -23.09176254272461,
          -87.9959716796875,
          -71.49759674072266,
          -53.873165130615234,
          -40.78288650512695
         ]
        }
       ],
       "layout": {
        "scene": {
         "xaxis": {
          "title": {
           "text": "component 0"
          }
         },
         "yaxis": {
          "title": {
           "text": "component 1"
          }
         },
         "zaxis": {
          "title": {
           "text": "component 2"
          }
         }
        },
        "template": {
         "data": {
          "bar": [
           {
            "error_x": {
             "color": "#2a3f5f"
            },
            "error_y": {
             "color": "#2a3f5f"
            },
            "marker": {
             "line": {
              "color": "#E5ECF6",
              "width": 0.5
             },
             "pattern": {
              "fillmode": "overlay",
              "size": 10,
              "solidity": 0.2
             }
            },
            "type": "bar"
           }
          ],
          "barpolar": [
           {
            "marker": {
             "line": {
              "color": "#E5ECF6",
              "width": 0.5
             },
             "pattern": {
              "fillmode": "overlay",
              "size": 10,
              "solidity": 0.2
             }
            },
            "type": "barpolar"
           }
          ],
          "carpet": [
           {
            "aaxis": {
             "endlinecolor": "#2a3f5f",
             "gridcolor": "white",
             "linecolor": "white",
             "minorgridcolor": "white",
             "startlinecolor": "#2a3f5f"
            },
            "baxis": {
             "endlinecolor": "#2a3f5f",
             "gridcolor": "white",
             "linecolor": "white",
             "minorgridcolor": "white",
             "startlinecolor": "#2a3f5f"
            },
            "type": "carpet"
           }
          ],
          "choropleth": [
           {
            "colorbar": {
             "outlinewidth": 0,
             "ticks": ""
            },
            "type": "choropleth"
           }
          ],
          "contour": [
           {
            "colorbar": {
             "outlinewidth": 0,
             "ticks": ""
            },
            "colorscale": [
             [
              0,
              "#0d0887"
             ],
             [
              0.1111111111111111,
              "#46039f"
             ],
             [
              0.2222222222222222,
              "#7201a8"
             ],
             [
              0.3333333333333333,
              "#9c179e"
             ],
             [
              0.4444444444444444,
              "#bd3786"
             ],
             [
              0.5555555555555556,
              "#d8576b"
             ],
             [
              0.6666666666666666,
              "#ed7953"
             ],
             [
              0.7777777777777778,
              "#fb9f3a"
             ],
             [
              0.8888888888888888,
              "#fdca26"
             ],
             [
              1,
              "#f0f921"
             ]
            ],
            "type": "contour"
           }
          ],
          "contourcarpet": [
           {
            "colorbar": {
             "outlinewidth": 0,
             "ticks": ""
            },
            "type": "contourcarpet"
           }
          ],
          "heatmap": [
           {
            "colorbar": {
             "outlinewidth": 0,
             "ticks": ""
            },
            "colorscale": [
             [
              0,
              "#0d0887"
             ],
             [
              0.1111111111111111,
              "#46039f"
             ],
             [
              0.2222222222222222,
              "#7201a8"
             ],
             [
              0.3333333333333333,
              "#9c179e"
             ],
             [
              0.4444444444444444,
              "#bd3786"
             ],
             [
              0.5555555555555556,
              "#d8576b"
             ],
             [
              0.6666666666666666,
              "#ed7953"
             ],
             [
              0.7777777777777778,
              "#fb9f3a"
             ],
             [
              0.8888888888888888,
              "#fdca26"
             ],
             [
              1,
              "#f0f921"
             ]
            ],
            "type": "heatmap"
           }
          ],
          "heatmapgl": [
           {
            "colorbar": {
             "outlinewidth": 0,
             "ticks": ""
            },
            "colorscale": [
             [
              0,
              "#0d0887"
             ],
             [
              0.1111111111111111,
              "#46039f"
             ],
             [
              0.2222222222222222,
              "#7201a8"
             ],
             [
              0.3333333333333333,
              "#9c179e"
             ],
             [
              0.4444444444444444,
              "#bd3786"
             ],
             [
              0.5555555555555556,
              "#d8576b"
             ],
             [
              0.6666666666666666,
              "#ed7953"
             ],
             [
              0.7777777777777778,
              "#fb9f3a"
             ],
             [
              0.8888888888888888,
              "#fdca26"
             ],
             [
              1,
              "#f0f921"
             ]
            ],
            "type": "heatmapgl"
           }
          ],
          "histogram": [
           {
            "marker": {
             "pattern": {
              "fillmode": "overlay",
              "size": 10,
              "solidity": 0.2
             }
            },
            "type": "histogram"
           }
          ],
          "histogram2d": [
           {
            "colorbar": {
             "outlinewidth": 0,
             "ticks": ""
            },
            "colorscale": [
             [
              0,
              "#0d0887"
             ],
             [
              0.1111111111111111,
              "#46039f"
             ],
             [
              0.2222222222222222,
              "#7201a8"
             ],
             [
              0.3333333333333333,
              "#9c179e"
             ],
             [
              0.4444444444444444,
              "#bd3786"
             ],
             [
              0.5555555555555556,
              "#d8576b"
             ],
             [
              0.6666666666666666,
              "#ed7953"
             ],
             [
              0.7777777777777778,
              "#fb9f3a"
             ],
             [
              0.8888888888888888,
              "#fdca26"
             ],
             [
              1,
              "#f0f921"
             ]
            ],
            "type": "histogram2d"
           }
          ],
          "histogram2dcontour": [
           {
            "colorbar": {
             "outlinewidth": 0,
             "ticks": ""
            },
            "colorscale": [
             [
              0,
              "#0d0887"
             ],
             [
              0.1111111111111111,
              "#46039f"
             ],
             [
              0.2222222222222222,
              "#7201a8"
             ],
             [
              0.3333333333333333,
              "#9c179e"
             ],
             [
              0.4444444444444444,
              "#bd3786"
             ],
             [
              0.5555555555555556,
              "#d8576b"
             ],
             [
              0.6666666666666666,
              "#ed7953"
             ],
             [
              0.7777777777777778,
              "#fb9f3a"
             ],
             [
              0.8888888888888888,
              "#fdca26"
             ],
             [
              1,
              "#f0f921"
             ]
            ],
            "type": "histogram2dcontour"
           }
          ],
          "mesh3d": [
           {
            "colorbar": {
             "outlinewidth": 0,
             "ticks": ""
            },
            "type": "mesh3d"
           }
          ],
          "parcoords": [
           {
            "line": {
             "colorbar": {
              "outlinewidth": 0,
              "ticks": ""
             }
            },
            "type": "parcoords"
           }
          ],
          "pie": [
           {
            "automargin": true,
            "type": "pie"
           }
          ],
          "scatter": [
           {
            "fillpattern": {
             "fillmode": "overlay",
             "size": 10,
             "solidity": 0.2
            },
            "type": "scatter"
           }
          ],
          "scatter3d": [
           {
            "line": {
             "colorbar": {
              "outlinewidth": 0,
              "ticks": ""
             }
            },
            "marker": {
             "colorbar": {
              "outlinewidth": 0,
              "ticks": ""
             }
            },
            "type": "scatter3d"
           }
          ],
          "scattercarpet": [
           {
            "marker": {
             "colorbar": {
              "outlinewidth": 0,
              "ticks": ""
             }
            },
            "type": "scattercarpet"
           }
          ],
          "scattergeo": [
           {
            "marker": {
             "colorbar": {
              "outlinewidth": 0,
              "ticks": ""
             }
            },
            "type": "scattergeo"
           }
          ],
          "scattergl": [
           {
            "marker": {
             "colorbar": {
              "outlinewidth": 0,
              "ticks": ""
             }
            },
            "type": "scattergl"
           }
          ],
          "scattermapbox": [
           {
            "marker": {
             "colorbar": {
              "outlinewidth": 0,
              "ticks": ""
             }
            },
            "type": "scattermapbox"
           }
          ],
          "scatterpolar": [
           {
            "marker": {
             "colorbar": {
              "outlinewidth": 0,
              "ticks": ""
             }
            },
            "type": "scatterpolar"
           }
          ],
          "scatterpolargl": [
           {
            "marker": {
             "colorbar": {
              "outlinewidth": 0,
              "ticks": ""
             }
            },
            "type": "scatterpolargl"
           }
          ],
          "scatterternary": [
           {
            "marker": {
             "colorbar": {
              "outlinewidth": 0,
              "ticks": ""
             }
            },
            "type": "scatterternary"
           }
          ],
          "surface": [
           {
            "colorbar": {
             "outlinewidth": 0,
             "ticks": ""
            },
            "colorscale": [
             [
              0,
              "#0d0887"
             ],
             [
              0.1111111111111111,
              "#46039f"
             ],
             [
              0.2222222222222222,
              "#7201a8"
             ],
             [
              0.3333333333333333,
              "#9c179e"
             ],
             [
              0.4444444444444444,
              "#bd3786"
             ],
             [
              0.5555555555555556,
              "#d8576b"
             ],
             [
              0.6666666666666666,
              "#ed7953"
             ],
             [
              0.7777777777777778,
              "#fb9f3a"
             ],
             [
              0.8888888888888888,
              "#fdca26"
             ],
             [
              1,
              "#f0f921"
             ]
            ],
            "type": "surface"
           }
          ],
          "table": [
           {
            "cells": {
             "fill": {
              "color": "#EBF0F8"
             },
             "line": {
              "color": "white"
             }
            },
            "header": {
             "fill": {
              "color": "#C8D4E3"
             },
             "line": {
              "color": "white"
             }
            },
            "type": "table"
           }
          ]
         },
         "layout": {
          "annotationdefaults": {
           "arrowcolor": "#2a3f5f",
           "arrowhead": 0,
           "arrowwidth": 1
          },
          "autotypenumbers": "strict",
          "coloraxis": {
           "colorbar": {
            "outlinewidth": 0,
            "ticks": ""
           }
          },
          "colorscale": {
           "diverging": [
            [
             0,
             "#8e0152"
            ],
            [
             0.1,
             "#c51b7d"
            ],
            [
             0.2,
             "#de77ae"
            ],
            [
             0.3,
             "#f1b6da"
            ],
            [
             0.4,
             "#fde0ef"
            ],
            [
             0.5,
             "#f7f7f7"
            ],
            [
             0.6,
             "#e6f5d0"
            ],
            [
             0.7,
             "#b8e186"
            ],
            [
             0.8,
             "#7fbc41"
            ],
            [
             0.9,
             "#4d9221"
            ],
            [
             1,
             "#276419"
            ]
           ],
           "sequential": [
            [
             0,
             "#0d0887"
            ],
            [
             0.1111111111111111,
             "#46039f"
            ],
            [
             0.2222222222222222,
             "#7201a8"
            ],
            [
             0.3333333333333333,
             "#9c179e"
            ],
            [
             0.4444444444444444,
             "#bd3786"
            ],
            [
             0.5555555555555556,
             "#d8576b"
            ],
            [
             0.6666666666666666,
             "#ed7953"
            ],
            [
             0.7777777777777778,
             "#fb9f3a"
            ],
            [
             0.8888888888888888,
             "#fdca26"
            ],
            [
             1,
             "#f0f921"
            ]
           ],
           "sequentialminus": [
            [
             0,
             "#0d0887"
            ],
            [
             0.1111111111111111,
             "#46039f"
            ],
            [
             0.2222222222222222,
             "#7201a8"
            ],
            [
             0.3333333333333333,
             "#9c179e"
            ],
            [
             0.4444444444444444,
             "#bd3786"
            ],
            [
             0.5555555555555556,
             "#d8576b"
            ],
            [
             0.6666666666666666,
             "#ed7953"
            ],
            [
             0.7777777777777778,
             "#fb9f3a"
            ],
            [
             0.8888888888888888,
             "#fdca26"
            ],
            [
             1,
             "#f0f921"
            ]
           ]
          },
          "colorway": [
           "#636efa",
           "#EF553B",
           "#00cc96",
           "#ab63fa",
           "#FFA15A",
           "#19d3f3",
           "#FF6692",
           "#B6E880",
           "#FF97FF",
           "#FECB52"
          ],
          "font": {
           "color": "#2a3f5f"
          },
          "geo": {
           "bgcolor": "white",
           "lakecolor": "white",
           "landcolor": "#E5ECF6",
           "showlakes": true,
           "showland": true,
           "subunitcolor": "white"
          },
          "hoverlabel": {
           "align": "left"
          },
          "hovermode": "closest",
          "mapbox": {
           "style": "light"
          },
          "paper_bgcolor": "white",
          "plot_bgcolor": "#E5ECF6",
          "polar": {
           "angularaxis": {
            "gridcolor": "white",
            "linecolor": "white",
            "ticks": ""
           },
           "bgcolor": "#E5ECF6",
           "radialaxis": {
            "gridcolor": "white",
            "linecolor": "white",
            "ticks": ""
           }
          },
          "scene": {
           "xaxis": {
            "backgroundcolor": "#E5ECF6",
            "gridcolor": "white",
            "gridwidth": 2,
            "linecolor": "white",
            "showbackground": true,
            "ticks": "",
            "zerolinecolor": "white"
           },
           "yaxis": {
            "backgroundcolor": "#E5ECF6",
            "gridcolor": "white",
            "gridwidth": 2,
            "linecolor": "white",
            "showbackground": true,
            "ticks": "",
            "zerolinecolor": "white"
           },
           "zaxis": {
            "backgroundcolor": "#E5ECF6",
            "gridcolor": "white",
            "gridwidth": 2,
            "linecolor": "white",
            "showbackground": true,
            "ticks": "",
            "zerolinecolor": "white"
           }
          },
          "shapedefaults": {
           "line": {
            "color": "#2a3f5f"
           }
          },
          "ternary": {
           "aaxis": {
            "gridcolor": "white",
            "linecolor": "white",
            "ticks": ""
           },
           "baxis": {
            "gridcolor": "white",
            "linecolor": "white",
            "ticks": ""
           },
           "bgcolor": "#E5ECF6",
           "caxis": {
            "gridcolor": "white",
            "linecolor": "white",
            "ticks": ""
           }
          },
          "title": {
           "x": 0.05
          },
          "xaxis": {
           "automargin": true,
           "gridcolor": "white",
           "linecolor": "white",
           "ticks": "",
           "title": {
            "standoff": 15
           },
           "zerolinecolor": "white",
           "zerolinewidth": 2
          },
          "yaxis": {
           "automargin": true,
           "gridcolor": "white",
           "linecolor": "white",
           "ticks": "",
           "title": {
            "standoff": 15
           },
           "zerolinecolor": "white",
           "zerolinewidth": 2
          }
         }
        }
       }
      }
     },
     "metadata": {},
     "output_type": "display_data"
    }
   ],
   "source": [
    "import plotly.graph_objs as go\n",
    "import numpy as np\n",
    "\n",
    "# class target 정보 불러오기\n",
    "tsne_df['target'] = df['target']\n",
    "\n",
    "# target 별 분리\n",
    "tsne_df_0 = tsne_df[tsne_df['target'] == 0]\n",
    "tsne_df_1 = tsne_df[tsne_df['target'] == 1]\n",
    "tsne_df_2 = tsne_df[tsne_df['target'] == 2]\n",
    "\n",
    "# Define the colors for each target category\n",
    "colors = ['pink', 'purple', 'yellow']\n",
    "\n",
    "# Create the scatter plot\n",
    "fig = go.Figure()\n",
    "\n",
    "# Scatter plot for each target category\n",
    "for i, df in enumerate([tsne_df_0, tsne_df_1, tsne_df_2]):\n",
    "    fig.add_trace(go.Scatter3d(\n",
    "        x=df['component 0'],\n",
    "        y=df['component 1'],\n",
    "        z=df['component 2'],\n",
    "        mode='markers',\n",
    "        marker=dict(\n",
    "            size=4,\n",
    "            color=colors[i],\n",
    "            opacity=0.8\n",
    "        ),\n",
    "        name=['setosa', 'versicolor', 'virginica'][i]\n",
    "    ))\n",
    "\n",
    "# Add axis labels\n",
    "fig.update_layout(\n",
    "    scene=dict(\n",
    "        xaxis_title='component 0',\n",
    "        yaxis_title='component 1',\n",
    "        zaxis_title='component 2'\n",
    "    )\n",
    ")\n",
    "\n",
    "# Show the plot\n",
    "fig.show()\n"
   ]
  },
  {
   "cell_type": "code",
   "execution_count": null,
   "metadata": {},
   "outputs": [],
   "source": []
  },
  {
   "cell_type": "code",
   "execution_count": null,
   "metadata": {},
   "outputs": [],
   "source": []
  }
 ],
 "metadata": {
  "kernelspec": {
   "display_name": "graph2edits",
   "language": "python",
   "name": "python3"
  },
  "language_info": {
   "codemirror_mode": {
    "name": "ipython",
    "version": 3
   },
   "file_extension": ".py",
   "mimetype": "text/x-python",
   "name": "python",
   "nbconvert_exporter": "python",
   "pygments_lexer": "ipython3",
   "version": "3.7.16"
  },
  "orig_nbformat": 4
 },
 "nbformat": 4,
 "nbformat_minor": 2
}
